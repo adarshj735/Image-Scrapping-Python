{
 "cells": [
  {
   "cell_type": "code",
   "execution_count": 1,
   "id": "d953f86c-0255-40f5-aec2-ba8223ec813d",
   "metadata": {},
   "outputs": [],
   "source": [
    "import requests\n",
    "from bs4 import BeautifulSoup\n",
    "from urllib.request import urlopen as ureq\n",
    "import os"
   ]
  },
  {
   "cell_type": "code",
   "execution_count": 2,
   "id": "45f2b84f-d584-4d4a-a6d7-aaad0bbd57d0",
   "metadata": {},
   "outputs": [],
   "source": [
    "save_dir=\"images/\"\n",
    "if not os.path.exists(save_dir):\n",
    "    os.makedirs(save_dir)"
   ]
  },
  {
   "cell_type": "code",
   "execution_count": 3,
   "id": "fb74f977-591a-4219-a8db-866822a5fea6",
   "metadata": {},
   "outputs": [],
   "source": [
    "headers = {\"User-Agent\": \"Mozilla/5.0 (Windows NT 10.0; Win64; x64) AppleWebKit/537.36 (KHTML, like Gecko) Chrome/58.0.3029.110 Safari/537.36\"}"
   ]
  },
  {
   "cell_type": "code",
   "execution_count": 4,
   "id": "386dc8b3-370d-420d-8e53-d6ff35391260",
   "metadata": {},
   "outputs": [],
   "source": [
    "query='mango'\n",
    "response = requests.get(f\"https://www.google.com/search?q={query}&sxsrf=AJOqlzUuff1RXi2mm8I_OqOwT9VjfIDL7w:1676996143273&source=lnms&tbm=isch&sa=X&ved=2ahUKEwiq-qK7gaf9AhXUgVYBHYReAfYQ_AUoA3oECAEQBQ&biw=1920&bih=937&dpr=1#imgrc=1th7VhSesfMJ4M\")\n"
   ]
  },
  {
   "cell_type": "code",
   "execution_count": 5,
   "id": "6eff2839-428a-4d59-a2d4-0e49ae746e4a",
   "metadata": {},
   "outputs": [],
   "source": [
    "soup=BeautifulSoup(response.content,'html.parser')"
   ]
  },
  {
   "cell_type": "code",
   "execution_count": 6,
   "id": "bf4012a1-500f-4edf-8a2d-3ed1f05b571a",
   "metadata": {},
   "outputs": [],
   "source": [
    "img_tags=soup.findAll('img')"
   ]
  },
  {
   "cell_type": "code",
   "execution_count": 7,
   "id": "b3458128-054b-4f54-8bd6-e40dbe957792",
   "metadata": {},
   "outputs": [
    {
     "data": {
      "text/plain": [
       "21"
      ]
     },
     "execution_count": 7,
     "metadata": {},
     "output_type": "execute_result"
    }
   ],
   "source": [
    "len(img_tags)"
   ]
  },
  {
   "cell_type": "code",
   "execution_count": 8,
   "id": "dc938a0c-9c53-493e-b9ff-74ae179e0d8e",
   "metadata": {},
   "outputs": [],
   "source": [
    "del img_tags[0]"
   ]
  },
  {
   "cell_type": "code",
   "execution_count": 9,
   "id": "8f9619e7-6c4c-4b89-81c0-73ab73594b7e",
   "metadata": {},
   "outputs": [],
   "source": [
    "img_data_mong=[]\n",
    "for i in img_tags:\n",
    "    img_url=i['src']\n",
    "    img_data=requests.get(img_url).content\n",
    "    with open(os.path.join(save_dir,f'{query}_{img_tags.index(i)}.jpg'),'wb') as f:\n",
    "        f.write(img_data)\n"
   ]
  },
  {
   "cell_type": "code",
   "execution_count": null,
   "id": "aa1047ff-dcf1-4a9c-8bc7-406ede93940e",
   "metadata": {},
   "outputs": [],
   "source": []
  }
 ],
 "metadata": {
  "kernelspec": {
   "display_name": "Python 3 (ipykernel)",
   "language": "python",
   "name": "python3"
  },
  "language_info": {
   "codemirror_mode": {
    "name": "ipython",
    "version": 3
   },
   "file_extension": ".py",
   "mimetype": "text/x-python",
   "name": "python",
   "nbconvert_exporter": "python",
   "pygments_lexer": "ipython3",
   "version": "3.12.0"
  }
 },
 "nbformat": 4,
 "nbformat_minor": 5
}
